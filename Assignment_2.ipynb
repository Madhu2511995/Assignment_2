{
 "cells": [
  {
   "cell_type": "markdown",
   "id": "2ae5e203-4a6c-4dbc-9b22-d7aabc4c4415",
   "metadata": {},
   "source": [
    "Q1. How do you comment code in Python? What are the different types of comments?\n",
    "Q2. What are variables in Python? How do you declare and assign values to variables?\n",
    "Q3. How do you convert one data type to another in Python?\n",
    "Q4. How do you write and execute a Python script from the command line?\n",
    "Q5. Given a list my_list = [1, 2, 3, 4, 5], write the code to slice the list and obtain the sub-list [2, 3].\n",
    "Q6. What is a complex number in mathematics, and how is it represented in Python?\n",
    "Q7. What is the correct way to declare a variable named age and assign the value 25 to it?\n",
    "Q8. Declare a variable named price and assign the value 9.99 to it. What data type does this variable\n",
    "belong to?\n",
    "Q9. Create a variable named name and assign your full name to it as a string. How would you print the\n",
    "value of this variable?\n",
    "Q10. Given the string \"Hello, World!\", extract the substring \"World\".\n",
    "Q11. Create a variable named \"is_student\" and assign it a boolean value indicating whether you are\n",
    "currently a student or not.\n",
    "\n",
    "\n"
   ]
  },
  {
   "cell_type": "code",
   "execution_count": null,
   "id": "f67536ad-d947-49ef-840e-0fbf7715cb36",
   "metadata": {},
   "outputs": [],
   "source": []
  },
  {
   "cell_type": "markdown",
   "id": "bf43b7c2-b1ab-4925-9af9-d73a7d6f3550",
   "metadata": {},
   "source": [
    "Q1. How do you comment code in Python? What are the different types of comments?"
   ]
  },
  {
   "cell_type": "markdown",
   "id": "6937e1ef-e162-41d4-be7b-f9d0a0251ad6",
   "metadata": {},
   "source": [
    "There are two way to write the comment in python \n",
    "1. Single line Comment ==> comment the single line using #\n",
    "Ex- #this is a comment \n",
    "2. Multi Line Comment ==> When we need to comment multiline at a time then we go for that and using \"\"\" This is comment \"\"\" or ''''This is also a comment'''\n",
    "Ex- '''\n",
    "My Name is\n",
    "Madhusudan Prajapati\n",
    "Whats about you\n",
    "'''"
   ]
  },
  {
   "cell_type": "code",
   "execution_count": null,
   "id": "437ea5ab-f36e-47e0-a27f-de016e5d358b",
   "metadata": {},
   "outputs": [],
   "source": []
  },
  {
   "cell_type": "markdown",
   "id": "47635818-0915-415d-84a6-28712429272a",
   "metadata": {},
   "source": [
    "Q2. What are variables in Python? How do you declare and assign values to variables?"
   ]
  },
  {
   "cell_type": "code",
   "execution_count": null,
   "id": "b559ee66-7076-4420-9f06-7caf81abf8e4",
   "metadata": {},
   "outputs": [],
   "source": []
  },
  {
   "cell_type": "markdown",
   "id": "0503d9b3-3029-4e7b-99d0-5b363b5e5498",
   "metadata": {},
   "source": [
    "Variable ==> Variable is a name that hold the memory location for storing the values\n",
    "for declaring a variable only give any name which is not start with number and does not contain any special character expect that (_)\n",
    "Ex- a=10\n",
    "    name =\"Madhu\""
   ]
  },
  {
   "cell_type": "markdown",
   "id": "e42e43fc-e551-4353-8255-b1bf4207fe38",
   "metadata": {},
   "source": [
    "Q3. How do you convert one data type to another in Python?"
   ]
  },
  {
   "cell_type": "markdown",
   "id": "c00d034c-b140-40e6-a444-a8ae7dc0f62a",
   "metadata": {},
   "source": [
    "In Python maney function which is use for converting data types \n",
    "Ex - int(),float(),str() etc.\n",
    "a=100\n",
    "a=float(a)\n",
    "a=str(a)"
   ]
  },
  {
   "cell_type": "code",
   "execution_count": null,
   "id": "54d0e725-4825-41b5-8327-b82ab531a1a1",
   "metadata": {},
   "outputs": [],
   "source": []
  },
  {
   "cell_type": "markdown",
   "id": "b51c2909-cc93-4d84-badc-3b5ff5a5a274",
   "metadata": {},
   "source": [
    "Q4. How do you write and execute a Python script from the command line?"
   ]
  },
  {
   "cell_type": "markdown",
   "id": "e15b447f-0edf-4d47-8c07-b6a8a9056380",
   "metadata": {},
   "source": [
    "First go to command line and change the path where your code is save (Save the file like test.py) and write the bellow command :\n",
    "    Python test.py  and hit the enter "
   ]
  },
  {
   "cell_type": "code",
   "execution_count": null,
   "id": "66d6d379-b267-47d1-adc2-12813e600283",
   "metadata": {},
   "outputs": [],
   "source": []
  },
  {
   "cell_type": "markdown",
   "id": "3c8f2556-9bc8-496d-a153-60420c842d98",
   "metadata": {},
   "source": [
    "Q5. Given a list my_list = [1, 2, 3, 4, 5], write the code to slice the list and obtain the sub-list [2, 3]."
   ]
  },
  {
   "cell_type": "code",
   "execution_count": 2,
   "id": "a697b5bf-99a9-4442-8348-c2aaf2b1b0eb",
   "metadata": {},
   "outputs": [
    {
     "data": {
      "text/plain": [
       "[2, 3]"
      ]
     },
     "execution_count": 2,
     "metadata": {},
     "output_type": "execute_result"
    }
   ],
   "source": [
    "my_list = [1, 2, 3, 4, 5]\n",
    "sub_list=my_list[1:3]\n",
    "sub_list"
   ]
  },
  {
   "cell_type": "code",
   "execution_count": null,
   "id": "b84a21a4-5065-40e0-82ba-d36ca0109193",
   "metadata": {},
   "outputs": [],
   "source": []
  },
  {
   "cell_type": "markdown",
   "id": "af64cc1f-dc91-4db2-9dba-7afba84d7ac5",
   "metadata": {},
   "source": [
    "Q6. What is a complex number in mathematics, and how is it represented in Python?"
   ]
  },
  {
   "cell_type": "markdown",
   "id": "2aa7b29c-0d61-485c-8739-114e57fae68e",
   "metadata": {},
   "source": [
    "Complex Number ==> complex number in math is used to represent the number which lies on plane in other word we can say that \n",
    "complex number is lies in axis like (X,Y).  X axis represent the real part and y axis represent the imagenary part (x+yi)\n",
    "Ex- 5 + 6i\n",
    "\n",
    "In Python Complex number represented like we use j in place of i\n",
    "Ex- 5+6j"
   ]
  },
  {
   "cell_type": "code",
   "execution_count": null,
   "id": "250dd195-e460-4e9b-aabf-13225d124bd3",
   "metadata": {},
   "outputs": [],
   "source": []
  },
  {
   "cell_type": "markdown",
   "id": "dae1dc52-e750-46b1-b283-1019fb718fb6",
   "metadata": {},
   "source": [
    "Q7. What is the correct way to declare a variable named age and assign the value 25 to it?"
   ]
  },
  {
   "cell_type": "code",
   "execution_count": 4,
   "id": "62972a50-ed67-4d90-bbb5-21879c7a0e95",
   "metadata": {},
   "outputs": [],
   "source": [
    "age=25"
   ]
  },
  {
   "cell_type": "code",
   "execution_count": null,
   "id": "caed7bf9-f300-434e-b178-34671082c45a",
   "metadata": {},
   "outputs": [],
   "source": []
  },
  {
   "cell_type": "markdown",
   "id": "62227647-f9bb-4f76-b8cb-55dfea8ced68",
   "metadata": {},
   "source": [
    "Q8. Declare a variable named price and assign the value 9.99 to it. What data type does this variable\n",
    "belong to?"
   ]
  },
  {
   "cell_type": "markdown",
   "id": "e47646e1-e1fd-44fd-9a22-192a98820582",
   "metadata": {},
   "source": [
    "price=9.99\n",
    "variable data type is float"
   ]
  },
  {
   "cell_type": "code",
   "execution_count": null,
   "id": "c1dee63b-5f3a-408a-a296-7e4a007cd482",
   "metadata": {},
   "outputs": [],
   "source": []
  },
  {
   "cell_type": "markdown",
   "id": "0d1b860f-6316-436b-83b9-b244760c0a8e",
   "metadata": {},
   "source": [
    "Q9. Create a variable named name and assign your full name to it as a string. How would you print the\n",
    "value of this variable?"
   ]
  },
  {
   "cell_type": "code",
   "execution_count": 4,
   "id": "b83985e1-2804-4c91-b3e8-e741f933b245",
   "metadata": {},
   "outputs": [
    {
     "name": "stdout",
     "output_type": "stream",
     "text": [
      "Madhusudan Prajapati\n"
     ]
    }
   ],
   "source": [
    "name='Madhusudan Prajapati'\n",
    "print(name)"
   ]
  },
  {
   "cell_type": "code",
   "execution_count": null,
   "id": "13090eb4-1270-4ef4-9425-8d66d63c7c1d",
   "metadata": {},
   "outputs": [],
   "source": []
  },
  {
   "cell_type": "markdown",
   "id": "79072f4f-0353-4c71-9133-659df955b572",
   "metadata": {},
   "source": [
    "Q10. Given the string \"Hello, World!\", extract the substring \"World\"."
   ]
  },
  {
   "cell_type": "code",
   "execution_count": 11,
   "id": "6aa4fab3-1075-4b6b-b90d-6f6d0e11c7da",
   "metadata": {},
   "outputs": [
    {
     "data": {
      "text/plain": [
       "' World'"
      ]
     },
     "execution_count": 11,
     "metadata": {},
     "output_type": "execute_result"
    }
   ],
   "source": [
    "s=\"Hello, World!\"\n",
    "s[-7:-1]"
   ]
  },
  {
   "cell_type": "code",
   "execution_count": null,
   "id": "3df17e45-67db-4787-a346-44bf7b9ee19f",
   "metadata": {},
   "outputs": [],
   "source": []
  },
  {
   "cell_type": "markdown",
   "id": "0c79a59a-50ed-4b6e-89fa-5705a6bf432c",
   "metadata": {},
   "source": [
    "Q11. Create a variable named \"is_student\" and assign it a boolean value indicating whether you are\n",
    "currently a student or not."
   ]
  },
  {
   "cell_type": "code",
   "execution_count": 3,
   "id": "d17cec53-8512-4d33-8bda-a4614b9f6884",
   "metadata": {},
   "outputs": [],
   "source": [
    "is_student=True\n",
    "is_student=False\n",
    "True indicate that you are student and false indicate that you are not student"
   ]
  },
  {
   "cell_type": "code",
   "execution_count": null,
   "id": "4aa5f174-250c-4118-a6d5-5ea3aad508c7",
   "metadata": {},
   "outputs": [],
   "source": []
  }
 ],
 "metadata": {
  "kernelspec": {
   "display_name": "Python 3 (ipykernel)",
   "language": "python",
   "name": "python3"
  },
  "language_info": {
   "codemirror_mode": {
    "name": "ipython",
    "version": 3
   },
   "file_extension": ".py",
   "mimetype": "text/x-python",
   "name": "python",
   "nbconvert_exporter": "python",
   "pygments_lexer": "ipython3",
   "version": "3.10.8"
  }
 },
 "nbformat": 4,
 "nbformat_minor": 5
}
